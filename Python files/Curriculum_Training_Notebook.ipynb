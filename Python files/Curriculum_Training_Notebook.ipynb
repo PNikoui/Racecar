{
  "nbformat": 4,
  "nbformat_minor": 0,
  "metadata": {
    "kernelspec": {
      "display_name": "Python 3",
      "language": "python",
      "name": "python3"
    },
    "language_info": {
      "codemirror_mode": {
        "name": "ipython",
        "version": 3
      },
      "file_extension": ".py",
      "mimetype": "text/x-python",
      "name": "python",
      "nbconvert_exporter": "python",
      "pygments_lexer": "ipython3",
      "version": "3.7.4"
    },
    "colab": {
      "name": "RaceCar_MAIN.ipynb",
      "provenance": [],
      "collapsed_sections": []
    },
    "accelerator": "GPU"
  },
  "cells": [
    {
      "cell_type": "markdown",
      "metadata": {
        "id": "HAvIwkUT-JZW"
      },
      "source": [
        "## Race Car Project "
      ]
    },
    {
      "cell_type": "code",
      "metadata": {
        "id": "UwwUQeXb-JZW"
      },
      "source": [
        "import sys\n",
        "import numpy as np\n",
        "import torch\n",
        "import torch.nn as nn\n",
        "import torch.optim as optim\n",
        "import torch.nn.functional as F\n",
        "import matplotlib.pyplot as plt \n",
        "from descartes import PolygonPatch\n",
        "import shapely.geometry as sg"
      ],
      "execution_count": 1,
      "outputs": []
    },
    {
      "cell_type": "code",
      "metadata": {
        "colab": {
          "base_uri": "https://localhost:8080/"
        },
        "id": "tMmFQRuK_FSv",
        "outputId": "a59802de-4a8c-4062-8bc4-79b4147833f7"
      },
      "source": [
        "!git clone https://github.com/PNikoui/Racecar"
      ],
      "execution_count": 2,
      "outputs": [
        {
          "output_type": "stream",
          "text": [
            "fatal: destination path 'Racecar' already exists and is not an empty directory.\n"
          ],
          "name": "stdout"
        }
      ]
    },
    {
      "cell_type": "code",
      "metadata": {
        "colab": {
          "base_uri": "https://localhost:8080/"
        },
        "id": "e_XMt9M1DxgO",
        "outputId": "9ab51945-1538-465c-9237-5ca6e792f0ca"
      },
      "source": [
        "cd Racecar/"
      ],
      "execution_count": 3,
      "outputs": [
        {
          "output_type": "stream",
          "text": [
            "/content/Racecar\n"
          ],
          "name": "stdout"
        }
      ]
    },
    {
      "cell_type": "code",
      "metadata": {
        "id": "Mq1-kZG0_ScC"
      },
      "source": [
        "# # !git add * \n",
        "# # !git stash\n",
        "# !git reset --hard && git pull"
      ],
      "execution_count": 4,
      "outputs": []
    },
    {
      "cell_type": "code",
      "metadata": {
        "colab": {
          "base_uri": "https://localhost:8080/"
        },
        "id": "0RQGTtEJ_L7U",
        "outputId": "1915af69-f9ad-4c63-8174-5d6dceee2ecc"
      },
      "source": [
        "!pwd"
      ],
      "execution_count": 5,
      "outputs": [
        {
          "output_type": "stream",
          "text": [
            "/content/Racecar\n"
          ],
          "name": "stdout"
        }
      ]
    },
    {
      "cell_type": "code",
      "metadata": {
        "id": "30-U0KkX-JZX"
      },
      "source": [
        "from racetrack import racetrack\n",
        "from simulation import python_env\n",
        "from environment import RacecarEnv"
      ],
      "execution_count": 6,
      "outputs": []
    },
    {
      "cell_type": "code",
      "metadata": {
        "id": "cAk-4EZx-JZX"
      },
      "source": [
        "from gym import envs\n",
        "import Racecar\n",
        "\n",
        "# envids = [spec.id for spec in envs.registry.all()]\n",
        "# for envid in sorted(envids):\n",
        "#     print(envid)"
      ],
      "execution_count": 7,
      "outputs": []
    },
    {
      "cell_type": "code",
      "metadata": {
        "id": "T2BX74VI-JZX"
      },
      "source": [
        "import gym\n",
        "num_turns = 1\n",
        "env = gym.make('RacecarEnv-v0', turns = num_turns)\n",
        "# print(env.action_space)\n",
        "# print(env.observation_space)"
      ],
      "execution_count": 8,
      "outputs": []
    },
    {
      "cell_type": "code",
      "metadata": {
        "id": "LrYXkpq7-29X"
      },
      "source": [
        "from genetic_gpu import genetic_algo as geneticGPU"
      ],
      "execution_count": 9,
      "outputs": []
    },
    {
      "cell_type": "code",
      "metadata": {
        "id": "onxGVcaZTxqg"
      },
      "source": [
        "##  Track GPU usage\n",
        "# import wandb\n",
        "# wandb.init()"
      ],
      "execution_count": 10,
      "outputs": []
    },
    {
      "cell_type": "code",
      "metadata": {
        "id": "tQCM_G2--ZJd"
      },
      "source": [
        "Num_Agents = 100\n",
        "Num_Generations = 51\n",
        "Crossover_Rate = 0.2\n",
        "Num_Crossover = int(Crossover_Rate*Num_Agents)\n",
        "Mutation_Power = 0.1\n",
        "Top_Limit = 10\n",
        "\n",
        "R = racetrack(num_turns,1)\n",
        "R.generate(1)\n",
        "\n",
        "GA = geneticGPU(-1, num_turns)\n",
        "GA.train(Num_Agents,Num_Generations,Top_Limit, 'turn', Num_Crossover, Mutation_Power)"
      ],
      "execution_count": null,
      "outputs": []
    },
    {
      "cell_type": "code",
      "metadata": {
        "id": "qKYC7M2P_hAh"
      },
      "source": [
        "import gym \n",
        "num_turns = 2\n",
        "# env = gym.make('RacecarEnv-v2', turns = num_turns)\n",
        "\n",
        "Num_Agents2 = 100\n",
        "Num_Generations2 = 51\n",
        "Crossover_Rate2 = 0.2\n",
        "Num_Crossover2 = int(Crossover_Rate2*Num_Agents2)\n",
        "Mutation_Power2 = 0.1\n",
        "Top_Limit2 = 10\n",
        "\n",
        "R = racetrack(num_turns,1)\n",
        "R.generate(1)\n",
        "\n",
        "\n",
        "GA2 = geneticGPU(-1,num_turns)\n",
        "\n",
        "#### (original file) = ('turn_1') updated files should be called ('turns_{num_turns}')\n",
        "\n",
        "GA2.Curriculum_train(Num_Agents2,Num_Generations2,Top_Limit2, 'turn_1', Num_Crossover2, Mutation_Power2)"
      ],
      "execution_count": null,
      "outputs": []
    },
    {
      "cell_type": "code",
      "metadata": {
        "id": "Xu8r-3OPTaiC"
      },
      "source": [
        "num_turns = 3\n",
        "# env = gym.make('RacecarEnv-v3', turns = num_turns)\n",
        "\n",
        "Num_Agents3 = 100\n",
        "Num_Generations3 = 51\n",
        "Crossover_Rate3 = 0.2\n",
        "Num_Crossover3 = int(Crossover_Rate3*Num_Agents3)\n",
        "Mutation_Power3 = 0.1\n",
        "Top_Limit3 = 10\n",
        "\n",
        "R = racetrack(num_turns,1)\n",
        "R.generate(1)\n",
        "\n",
        "GA3 = geneticGPU(-1,num_turns)\n",
        "\n",
        "#### (original file) = ('turns_2') updated files should be called ('turns_{num_turns}')\n",
        "\n",
        "GA3.Curriculum_train(Num_Agents3,Num_Generations3,Top_Limit3, 'turns_2', Num_Crossover3, Mutation_Power3)"
      ],
      "execution_count": null,
      "outputs": []
    },
    {
      "cell_type": "code",
      "metadata": {
        "id": "O54a_xYA5WaS"
      },
      "source": [
        ""
      ],
      "execution_count": null,
      "outputs": []
    }
  ]
}