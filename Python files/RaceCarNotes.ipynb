{
 "cells": [
  {
   "cell_type": "markdown",
   "metadata": {},
   "source": [
    "## Race Car Project "
   ]
  },
  {
   "cell_type": "code",
   "execution_count": 4,
   "metadata": {},
   "outputs": [],
   "source": [
    "import model as Mod\n",
    "import numpy as np\n",
    "import torch\n",
    "import torch.nn as nn\n",
    "import torch.optim as optim\n",
    "import torch.nn.functional as F\n",
    "import matplotlib.pyplot as plt \n",
    "from descartes import PolygonPatch\n",
    "import shapely.geometry as sg"
   ]
  },
  {
   "cell_type": "code",
   "execution_count": 3,
   "metadata": {},
   "outputs": [],
   "source": [
    "import sys\n",
    "sys.path.append(\"C:\\\\Users\\\\Pouya\\\\Documents\\\\Deep Learning\\\\Project\\\\\")"
   ]
  },
  {
   "cell_type": "code",
   "execution_count": 4,
   "metadata": {},
   "outputs": [],
   "source": [
    "sys.path.append(\"C:\\\\Users\\\\Pouya\\\\Documents\\\\Deep Learning\\\\Project\\\\gym-Racecar\\\\gym_Racecar\\\\envs\\\\\")"
   ]
  },
  {
   "cell_type": "code",
   "execution_count": 5,
   "metadata": {},
   "outputs": [
    {
     "name": "stdout",
     "output_type": "stream",
     "text": [
      "['C:\\\\Users\\\\Pouya\\\\Documents\\\\Deep Learning\\\\Project', 'C:\\\\Python38\\\\python38.zip', 'C:\\\\Python38\\\\DLLs', 'C:\\\\Python38\\\\lib', 'C:\\\\Python38', '', 'C:\\\\Users\\\\Pouya\\\\AppData\\\\Roaming\\\\Python\\\\Python38\\\\site-packages', 'C:\\\\Python38\\\\lib\\\\site-packages', 'c:\\\\users\\\\pouya\\\\documents\\\\deep learning\\\\project\\\\gym-racecar', 'C:\\\\Python38\\\\lib\\\\site-packages\\\\win32', 'C:\\\\Python38\\\\lib\\\\site-packages\\\\win32\\\\lib', 'C:\\\\Python38\\\\lib\\\\site-packages\\\\Pythonwin', 'C:\\\\Python38\\\\lib\\\\site-packages\\\\IPython\\\\extensions', 'C:\\\\Users\\\\Pouya\\\\.ipython', 'C:\\\\Users\\\\Pouya\\\\Documents\\\\Deep Learning\\\\Project\\\\', 'C:\\\\Users\\\\Pouya\\\\Documents\\\\Deep Learning\\\\Project\\\\gym-Racecar\\\\gym_Racecar\\\\envs\\\\']\n"
     ]
    }
   ],
   "source": [
    "print(sys.path)"
   ]
  },
  {
   "cell_type": "code",
   "execution_count": 6,
   "metadata": {},
   "outputs": [],
   "source": [
    "from racetrack import racetrack\n",
    "from simulation import python_env\n",
    "from environment import RacecarEnv"
   ]
  },
  {
   "cell_type": "code",
   "execution_count": 7,
   "metadata": {},
   "outputs": [],
   "source": [
    "from gym import envs\n",
    "import gym_Racecar\n",
    "\n",
    "# envids = [spec.id for spec in envs.registry.all()]\n",
    "# for envid in sorted(envids):\n",
    "#     print(envid)"
   ]
  },
  {
   "cell_type": "code",
   "execution_count": 8,
   "metadata": {},
   "outputs": [
    {
     "name": "stdout",
     "output_type": "stream",
     "text": [
      "Obtaining file:///C:/Users/Pouya/Documents/Deep%20Learning/Project/gym-Racecar\n",
      "Requirement already satisfied: gym>=0.2.3 in c:\\python38\\lib\\site-packages (from gym-Racecar==0.0.1) (0.17.3)\n",
      "Requirement already satisfied: scipy in c:\\python38\\lib\\site-packages (from gym>=0.2.3->gym-Racecar==0.0.1) (1.4.1)\n",
      "Requirement already satisfied: numpy>=1.10.4 in c:\\python38\\lib\\site-packages (from gym>=0.2.3->gym-Racecar==0.0.1) (1.18.1)\n",
      "Requirement already satisfied: pyglet<=1.5.0,>=1.4.0 in c:\\python38\\lib\\site-packages (from gym>=0.2.3->gym-Racecar==0.0.1) (1.5.0)\n",
      "Requirement already satisfied: cloudpickle<1.7.0,>=1.2.0 in c:\\python38\\lib\\site-packages (from gym>=0.2.3->gym-Racecar==0.0.1) (1.6.0)\n",
      "Requirement already satisfied: future in c:\\python38\\lib\\site-packages (from pyglet<=1.5.0,>=1.4.0->gym>=0.2.3->gym-Racecar==0.0.1) (0.18.2)\n",
      "Installing collected packages: gym-Racecar\n",
      "  Attempting uninstall: gym-Racecar\n",
      "    Found existing installation: gym-Racecar 0.0.1\n",
      "    Uninstalling gym-Racecar-0.0.1:\n",
      "      Successfully uninstalled gym-Racecar-0.0.1\n",
      "  Running setup.py develop for gym-Racecar\n",
      "Successfully installed gym-Racecar\n",
      "Note: you may need to restart the kernel to use updated packages.\n"
     ]
    }
   ],
   "source": [
    "pip install -e gym-Racecar"
   ]
  },
  {
   "cell_type": "code",
   "execution_count": 9,
   "metadata": {},
   "outputs": [],
   "source": [
    "import gym\n",
    "num_turns = 5\n",
    "env = gym.make('RacecarEnv-v0', turns = num_turns)\n",
    "# print(env.action_space)\n",
    "# print(env.observation_space)"
   ]
  },
  {
   "cell_type": "markdown",
   "metadata": {},
   "source": [
    "### Policy Gradient "
   ]
  },
  {
   "cell_type": "code",
   "execution_count": 9,
   "metadata": {},
   "outputs": [],
   "source": [
    "class PolicyNet(nn.Module):\n",
    "    \"\"\"Policy network\"\"\"\n",
    "\n",
    "    def __init__(self, n_inputs, n_hidden, n_outputs, learning_rate):\n",
    "        super(PolicyNet, self).__init__()\n",
    "        # network\n",
    "#         self.hidden = nn.Linear(n_inputs, n_hidden)\n",
    "        self.hidden = nn.Linear(n_hidden, n_hidden)\n",
    "        self.hidden2 = nn.Linear(n_hidden, n_hidden)\n",
    "        self.out = nn.Linear(n_hidden, n_outputs)\n",
    "        # training\n",
    "        self.optimizer = optim.Adam(self.parameters(), lr=learning_rate)\n",
    "        self.D = nn.Dropout(p=0.6)\n",
    "\n",
    "    def forward(self, x):\n",
    "        x = self.hidden(x)\n",
    "#         x = self.D(x)\n",
    "        x = F.relu(x)\n",
    "        x = self.hidden2(x)\n",
    "        x = self.out(x)\n",
    "        return F.softmax(x, dim=1)\n",
    "    \n",
    "    def loss(self, action_probabilities, returns):\n",
    "        return -torch.mean(torch.mul(torch.log(action_probabilities), returns))"
   ]
  },
  {
   "cell_type": "code",
   "execution_count": 10,
   "metadata": {},
   "outputs": [
    {
     "name": "stdout",
     "output_type": "stream",
     "text": [
      "state shape: 1\n",
      "action shape: 2\n"
     ]
    }
   ],
   "source": [
    "n_inputs = env.observation_space.shape[0]\n",
    "n_hidden = 35\n",
    "n_outputs = 2 #env.action_space.n\n",
    "\n",
    "print('state shape:', n_inputs)\n",
    "print('action shape:', n_outputs)"
   ]
  },
  {
   "cell_type": "code",
   "execution_count": 11,
   "metadata": {},
   "outputs": [],
   "source": [
    "def compute_returns(rewards, discount_factor):\n",
    "    \"\"\"Compute discounted returns.\"\"\"\n",
    "    returns = np.zeros(len(rewards))\n",
    "    returns[-1] = rewards[-1]\n",
    "    for t in reversed(range(len(rewards)-1)):\n",
    "        returns[t] = rewards[t] + discount_factor * returns[t+1]\n",
    "    return returns"
   ]
  },
  {
   "cell_type": "code",
   "execution_count": 12,
   "metadata": {},
   "outputs": [],
   "source": [
    "# training settings\n",
    "\n",
    "num_episodes = 10\n",
    "rollout_limit = 10 # max rollout length\n",
    "discount_factor = 0.99 # reward discount factor (gamma), 1.0 = no discount\n",
    "learning_rate = 0.01 # you know this by now\n",
    "val_freq = 10 # validation frequency\n",
    "\n",
    "# Policy \n",
    "policy = PolicyNet(n_inputs, n_hidden, n_outputs, learning_rate)"
   ]
  },
  {
   "cell_type": "code",
   "execution_count": 13,
   "metadata": {},
   "outputs": [],
   "source": [
    "def closer(dist1, dist2):\n",
    "    return dist2 < dist1"
   ]
  },
  {
   "cell_type": "code",
   "execution_count": 14,
   "metadata": {},
   "outputs": [
    {
     "name": "stdout",
     "output_type": "stream",
     "text": [
      "start training\n"
     ]
    },
    {
     "data": {
      "image/png": "[encoded data removed]",
      "text/plain": [
       "<Figure size 720x720 with 1 Axes>"
      ]
     },
     "metadata": {
      "needs_background": "light"
     },
     "output_type": "display_data"
    },
    {
     "name": "stdout",
     "output_type": "stream",
     "text": [
      "Position: ([], [], [])\n",
      "Observation: Distance | Angle | Sign: 14.069916519157335 0.47715451444801765 -1\n"
     ]
    },
    {
     "ename": "NameError",
     "evalue": "name 'a' is not defined",
     "output_type": "error",
     "traceback": [
      "\u001b[1;31m---------------------------------------------------------------------------\u001b[0m",
      "\u001b[1;31mNameError\u001b[0m                                 Traceback (most recent call last)",
      "\u001b[1;32m<ipython-input-14-0dcb30cb206c>\u001b[0m in \u001b[0;36m<module>\u001b[1;34m\u001b[0m\n\u001b[0;32m     59\u001b[0m                 \u001b[0msteering_angle\u001b[0m \u001b[1;33m=\u001b[0m \u001b[0mtheta\u001b[0m\u001b[1;33m\u001b[0m\u001b[1;33m\u001b[0m\u001b[0m\n\u001b[0;32m     60\u001b[0m \u001b[1;33m\u001b[0m\u001b[0m\n\u001b[1;32m---> 61\u001b[1;33m                 \u001b[0menv\u001b[0m\u001b[1;33m.\u001b[0m\u001b[0mstep\u001b[0m\u001b[1;33m(\u001b[0m\u001b[0ma\u001b[0m\u001b[1;33m)\u001b[0m\u001b[1;33m\u001b[0m\u001b[1;33m\u001b[0m\u001b[0m\n\u001b[0m\u001b[0;32m     62\u001b[0m \u001b[1;31m#                 reward = 1\u001b[0m\u001b[1;33m\u001b[0m\u001b[1;33m\u001b[0m\u001b[1;33m\u001b[0m\u001b[0m\n\u001b[0;32m     63\u001b[0m \u001b[1;33m\u001b[0m\u001b[0m\n",
      "\u001b[1;31mNameError\u001b[0m: name 'a' is not defined"
     ]
    },
    {
     "data": {
      "image/png": "[encoded data removed]",
      "text/plain": [
       "<Figure size 720x720 with 1 Axes>"
      ]
     },
     "metadata": {
      "needs_background": "light"
     },
     "output_type": "display_data"
    }
   ],
   "source": [
    "# train policy network\n",
    "velocity = 1\n",
    "steering_angle = 0\n",
    "theta = []\n",
    "RP = []\n",
    "\n",
    "try:\n",
    "    training_rewards, losses = [], []\n",
    "    print('start training')\n",
    "    for i in range(num_episodes):\n",
    "        x = []\n",
    "        y = []\n",
    "        rollout = []\n",
    "        R = racetrack(num_turns,i)\n",
    "        RacePlot, Goal = R.generate()\n",
    "        P = python_env(num_turns,i)\n",
    "        s = env.reset(i)\n",
    "        R.generate(1)\n",
    "#         print(Goal[-1])\n",
    "#         RacePlot, Goal = R.generate()\n",
    "\n",
    "\n",
    "\n",
    "# PLOT TRACK:\n",
    "\n",
    "#         track = sg.LineString(Goal)\n",
    "#         outer = track.buffer(1.5)\n",
    "#         inner = outer.buffer(-0.5)\n",
    "#         Track = outer - inner\n",
    "        xs = [a[0] for a in Goal]\n",
    "        ys = [a[1] for a in Goal]\n",
    "        fig = plt.figure(figsize=(10, 10))\n",
    "        ax1 = fig.gca()\n",
    "        ax1.set_xlim(min(xs)-5,max(xs)+5)\n",
    "        ax1.set_ylim(min(ys)-5,max(ys)+5)\n",
    "        ax1.plot(xs, ys)\n",
    "        ax1.add_patch(PolygonPatch(RacePlot, alpha=1, zorder=2))\n",
    "        print(\"Position:\", (x,y,theta))\n",
    "\n",
    "\n",
    "#         ss = s[0][:30]\n",
    "#         print(\"\\nThese are the states:\\n\", ss)\n",
    "#         D = s[0][30:33]\n",
    "#         print(\"\\nThese are the distance, angle, sign:\\n\", D)\n",
    "#         a = s[0][-2:]\n",
    "#         print(\"\\nThis is the action:\\n\", a)\n",
    "\n",
    "\n",
    "\n",
    "\n",
    "        for j in range(rollout_limit):\n",
    "            \n",
    "            Dist,Angle,Sign = env.observe()\n",
    "            print(\"Observation: Distance | Angle | Sign:\",Dist, Angle, Sign)\n",
    "            x1,y1,theta = P.kinematic(velocity, steering_angle)\n",
    "            x.append(x1)\n",
    "            y.append(y1)\n",
    "            if closer(Angle, theta) == 1:\n",
    "                steering_angle = theta\n",
    "                \n",
    "                env.step(a)\n",
    "#                 reward = 1\n",
    "                \n",
    "            if closer(Dist,x[j]) == 1:\n",
    "                velocity = velocity+1\n",
    "                reward = 1\n",
    "            else:\n",
    "                velocity = velocity/2\n",
    "                reward = 0\n",
    "        \n",
    "            # generate rollout by iteratively evaluating the current policy on the environment\n",
    "            with torch.no_grad():\n",
    "                a_prob = policy(torch.from_numpy(np.atleast_2d(s)).float())\n",
    "#                 print(a_prob)\n",
    "            a = (np.cumsum(a_prob.numpy()) > np.random.rand()).argmax() # sample action\n",
    "#             print(a)\n",
    "            s1, r, done, _ = env.step([[a,a],[a,a]])\n",
    "#             s1, r, done, _ = env.step(a_prob)\n",
    "#             dist, phi, sign = env.observe()\n",
    "#             print(\"Distance:\", dist)\n",
    "            rollout.append((s, a, r))\n",
    "#             print(len(rollout[0]))\n",
    "            s = s1\n",
    "            if done: break\n",
    "        \n",
    "\n",
    "        ax = plt.gca()\n",
    "        L2 = ax.plot(x,y, 'r--')\n",
    "        L3 = ax.plot(Goal[-1][0],Goal[-1][1], 'rX',markersize= 20)\n",
    "        plt.show()    \n",
    "        # prepare batch\n",
    "        rollout = np.array(rollout)\n",
    "#         print(np.shape(rollout[0][0]))\n",
    "        states = np.vstack(rollout[:,0])\n",
    "#         print(np.shape(states))\n",
    "        actions = np.vstack(rollout[:,1])\n",
    "#         print(np.shape(actions))\n",
    "        rewards = np.array(rollout[:,2], dtype=float)\n",
    "        print(rewards)\n",
    "        returns = compute_returns(rewards, discount_factor)\n",
    "        # policy gradient update\n",
    "        policy.optimizer.zero_grad()\n",
    "        a_probs = policy(torch.from_numpy(states).float()).gather(1, torch.from_numpy(actions)).view(-1)\n",
    "        loss = policy.loss(a_probs, torch.from_numpy(returns).float())\n",
    "        loss.backward()\n",
    "        policy.optimizer.step()\n",
    "        # bookkeeping\n",
    "        training_rewards.append(sum(rewards))\n",
    "        losses.append(loss.item())\n",
    "        # print\n",
    "        if (i+1) % val_freq == 0:\n",
    "            # validation\n",
    "            validation_rewards = []\n",
    "            for _ in range(10):\n",
    "                s = env.reset(i)\n",
    "                reward = 0\n",
    "                for _ in range(rollout_limit):\n",
    "                    with torch.no_grad():\n",
    "                        a = policy(torch.from_numpy(np.atleast_2d(s)).float()).argmax().item()\n",
    "                    s, r, done, _ = env.step([[a,a],[a,a]])\n",
    "                    reward += r\n",
    "                    if done: break\n",
    "                validation_rewards.append(reward)\n",
    "            print('{:4d}. mean training reward: {:6.2f}, mean validation reward: {:6.2f}, mean loss: {:7.4f}'.format(i+1, np.mean(training_rewards[-val_freq:]), np.mean(validation_rewards), np.mean(losses[-val_freq:])))\n",
    "    print('done')\n",
    "except KeyboardInterrupt:\n",
    "    print('interrupt')    "
   ]
  },
  {
   "cell_type": "markdown",
   "metadata": {},
   "source": [
    "# Genetic Algorithm"
   ]
  },
  {
   "cell_type": "code",
   "execution_count": 10,
   "metadata": {},
   "outputs": [],
   "source": [
    "from genetic import genetic_algo as Gen"
   ]
  },
  {
   "cell_type": "code",
   "execution_count": 11,
   "metadata": {},
   "outputs": [
    {
     "name": "stdout",
     "output_type": "stream",
     "text": [
      "<genetic.genetic_algo object at 0x0000018AFF7C71F0>\n"
     ]
    }
   ],
   "source": [
    "ga = Gen(1)\n",
    "print(ga)\n",
    "# ga.train(1,10,1,'test')\n"
   ]
  },
  {
   "cell_type": "code",
   "execution_count": 21,
   "metadata": {},
   "outputs": [
    {
     "name": "stdout",
     "output_type": "stream",
     "text": [
      "start training\n"
     ]
    },
    {
     "data": {
      "image/png": "[encoded data removed]",
      "text/plain": [
       "<Figure size 720x720 with 1 Axes>"
      ]
     },
     "metadata": {
      "needs_background": "light"
     },
     "output_type": "display_data"
    },
    {
     "name": "stdout",
     "output_type": "stream",
     "text": [
      "Position: ([], [], [])\n",
      "Observation: Distance | Angle | Sign: 14.069916519157335 0.47715451444801765 -1\n"
     ]
    },
    {
     "ename": "TypeError",
     "evalue": "'int' object is not subscriptable",
     "output_type": "error",
     "traceback": [
      "\u001b[1;31m---------------------------------------------------------------------------\u001b[0m",
      "\u001b[1;31mTypeError\u001b[0m                                 Traceback (most recent call last)",
      "\u001b[1;32m<ipython-input-21-0dcb30cb206c>\u001b[0m in \u001b[0;36m<module>\u001b[1;34m\u001b[0m\n\u001b[0;32m     59\u001b[0m                 \u001b[0msteering_angle\u001b[0m \u001b[1;33m=\u001b[0m \u001b[0mtheta\u001b[0m\u001b[1;33m\u001b[0m\u001b[1;33m\u001b[0m\u001b[0m\n\u001b[0;32m     60\u001b[0m \u001b[1;33m\u001b[0m\u001b[0m\n\u001b[1;32m---> 61\u001b[1;33m                 \u001b[0menv\u001b[0m\u001b[1;33m.\u001b[0m\u001b[0mstep\u001b[0m\u001b[1;33m(\u001b[0m\u001b[0ma\u001b[0m\u001b[1;33m)\u001b[0m\u001b[1;33m\u001b[0m\u001b[1;33m\u001b[0m\u001b[0m\n\u001b[0m\u001b[0;32m     62\u001b[0m \u001b[1;31m#                 reward = 1\u001b[0m\u001b[1;33m\u001b[0m\u001b[1;33m\u001b[0m\u001b[1;33m\u001b[0m\u001b[0m\n\u001b[0;32m     63\u001b[0m \u001b[1;33m\u001b[0m\u001b[0m\n",
      "\u001b[1;32mc:\\users\\pouya\\documents\\deep learning\\project\\gym-racecar\\gym_Racecar\\envs\\environment.py\u001b[0m in \u001b[0;36mstep\u001b[1;34m(self, action)\u001b[0m\n\u001b[0;32m     85\u001b[0m         \u001b[0mself\u001b[0m\u001b[1;33m.\u001b[0m\u001b[0moldx\u001b[0m\u001b[1;33m,\u001b[0m \u001b[0mself\u001b[0m\u001b[1;33m.\u001b[0m\u001b[0moldy\u001b[0m \u001b[1;33m=\u001b[0m \u001b[0mself\u001b[0m\u001b[1;33m.\u001b[0m\u001b[0mcarx\u001b[0m\u001b[1;33m,\u001b[0m \u001b[0mself\u001b[0m\u001b[1;33m.\u001b[0m\u001b[0mcary\u001b[0m\u001b[1;33m\u001b[0m\u001b[1;33m\u001b[0m\u001b[0m\n\u001b[0;32m     86\u001b[0m \u001b[1;33m\u001b[0m\u001b[0m\n\u001b[1;32m---> 87\u001b[1;33m         \u001b[0mself\u001b[0m\u001b[1;33m.\u001b[0m\u001b[0msim\u001b[0m\u001b[1;33m.\u001b[0m\u001b[0maction\u001b[0m\u001b[1;33m(\u001b[0m\u001b[0maction\u001b[0m\u001b[1;33m)\u001b[0m\u001b[1;33m\u001b[0m\u001b[1;33m\u001b[0m\u001b[0m\n\u001b[0m\u001b[0;32m     88\u001b[0m \u001b[1;33m\u001b[0m\u001b[0m\n\u001b[0;32m     89\u001b[0m         \u001b[1;31m# Fetching the resulting lidar as well as postion data\u001b[0m\u001b[1;33m\u001b[0m\u001b[1;33m\u001b[0m\u001b[1;33m\u001b[0m\u001b[0m\n",
      "\u001b[1;32m~\\Documents\\Deep Learning\\Project\\gym-Racecar\\gym_Racecar\\envs\\simulation.py\u001b[0m in \u001b[0;36maction\u001b[1;34m(self, a)\u001b[0m\n\u001b[0;32m     51\u001b[0m     \u001b[1;32mdef\u001b[0m \u001b[0maction\u001b[0m\u001b[1;33m(\u001b[0m\u001b[0mself\u001b[0m\u001b[1;33m,\u001b[0m \u001b[0ma\u001b[0m\u001b[1;33m)\u001b[0m\u001b[1;33m:\u001b[0m\u001b[1;33m\u001b[0m\u001b[1;33m\u001b[0m\u001b[0m\n\u001b[0;32m     52\u001b[0m \u001b[1;33m\u001b[0m\u001b[0m\n\u001b[1;32m---> 53\u001b[1;33m         \u001b[0mself\u001b[0m\u001b[1;33m.\u001b[0m\u001b[0mcar\u001b[0m \u001b[1;33m=\u001b[0m \u001b[0mself\u001b[0m\u001b[1;33m.\u001b[0m\u001b[0mkinematic\u001b[0m\u001b[1;33m(\u001b[0m\u001b[0ma\u001b[0m\u001b[1;33m[\u001b[0m\u001b[1;36m0\u001b[0m\u001b[1;33m]\u001b[0m\u001b[1;33m[\u001b[0m\u001b[1;36m0\u001b[0m\u001b[1;33m]\u001b[0m\u001b[1;33m,\u001b[0m \u001b[0ma\u001b[0m\u001b[1;33m[\u001b[0m\u001b[1;36m0\u001b[0m\u001b[1;33m]\u001b[0m\u001b[1;33m[\u001b[0m\u001b[1;36m1\u001b[0m\u001b[1;33m]\u001b[0m\u001b[1;33m)\u001b[0m\u001b[1;33m\u001b[0m\u001b[1;33m\u001b[0m\u001b[0m\n\u001b[0m\u001b[0;32m     54\u001b[0m \u001b[1;33m\u001b[0m\u001b[0m\n\u001b[0;32m     55\u001b[0m     \u001b[1;32mdef\u001b[0m \u001b[0mlidar\u001b[0m\u001b[1;33m(\u001b[0m\u001b[0mself\u001b[0m\u001b[1;33m)\u001b[0m\u001b[1;33m:\u001b[0m\u001b[1;33m\u001b[0m\u001b[1;33m\u001b[0m\u001b[0m\n",
      "\u001b[1;31mTypeError\u001b[0m: 'int' object is not subscriptable"
     ]
    },
    {
     "data": {
      "image/png": "[encoded data removed]",
      "text/plain": [
       "<Figure size 720x720 with 1 Axes>"
      ]
     },
     "metadata": {
      "needs_background": "light"
     },
     "output_type": "display_data"
    }
   ],
   "source": [
    "# train Genetic network\n",
    "W\n",
    "velocity = 1\n",
    "steering_angle = 0\n",
    "theta = []\n",
    "RP = []\n",
    "\n",
    "try:\n",
    "    training_rewards, losses = [], []\n",
    "    print('start training')\n",
    "    for i in range(num_episodes):\n",
    "        x = []\n",
    "        y = []\n",
    "        rollout = []\n",
    "        R = racetrack(num_turns,i)\n",
    "        RacePlot, Goal = R.generate()\n",
    "        P = python_env(num_turns,i)\n",
    "        s = env.reset(i)\n",
    "        R.generate(1)\n",
    "#         print(Goal[-1])\n",
    "#         RacePlot, Goal = R.generate()\n",
    "\n",
    "\n",
    "\n",
    "# PLOT TRACK:\n",
    "\n",
    "#         track = sg.LineString(Goal)\n",
    "#         outer = track.buffer(1.5)\n",
    "#         inner = outer.buffer(-0.5)\n",
    "#         Track = outer - inner\n",
    "        xs = [a[0] for a in Goal]\n",
    "        ys = [a[1] for a in Goal]\n",
    "        fig = plt.figure(figsize=(10, 10))\n",
    "        ax1 = fig.gca()\n",
    "        ax1.set_xlim(min(xs)-5,max(xs)+5)\n",
    "        ax1.set_ylim(min(ys)-5,max(ys)+5)\n",
    "        ax1.plot(xs, ys)\n",
    "        ax1.add_patch(PolygonPatch(RacePlot, alpha=1, zorder=2))\n",
    "        print(\"Position:\", (x,y,theta))\n",
    "\n",
    "\n",
    "#         ss = s[0][:30]\n",
    "#         print(\"\\nThese are the states:\\n\", ss)\n",
    "#         D = s[0][30:33]\n",
    "#         print(\"\\nThese are the distance, angle, sign:\\n\", D)\n",
    "#         a = s[0][-2:]\n",
    "#         print(\"\\nThis is the action:\\n\", a)\n",
    "\n",
    "\n",
    "\n",
    "\n",
    "        for j in range(rollout_limit):\n",
    "            \n",
    "            Dist,Angle,Sign = env.observe()\n",
    "            print(\"Observation: Distance | Angle | Sign:\",Dist, Angle, Sign)\n",
    "            x1,y1,theta = P.kinematic(velocity, steering_angle)\n",
    "            x.append(x1)\n",
    "            y.append(y1)\n",
    "            if closer(Angle, theta) == 1:\n",
    "                steering_angle = theta\n",
    "                \n",
    "                env.step(a)\n",
    "#                 reward = 1\n",
    "                \n",
    "            if closer(Dist,x[j]) == 1:\n",
    "                velocity = velocity+1\n",
    "                reward = 1\n",
    "            else:\n",
    "                velocity = velocity/2\n",
    "                reward = 0\n",
    "        \n",
    "            # generate rollout by iteratively evaluating the current policy on the environment\n",
    "            with torch.no_grad():\n",
    "                a_prob = policy(torch.from_numpy(np.atleast_2d(s)).float())\n",
    "#                 print(a_prob)\n",
    "            a = (np.cumsum(a_prob.numpy()) > np.random.rand()).argmax() # sample action\n",
    "#             print(a)\n",
    "            s1, r, done, _ = env.step([[a,a],[a,a]])\n",
    "#             s1, r, done, _ = env.step(a_prob)\n",
    "#             dist, phi, sign = env.observe()\n",
    "#             print(\"Distance:\", dist)\n",
    "            rollout.append((s, a, r))\n",
    "#             print(len(rollout[0]))\n",
    "            s = s1\n",
    "            if done: break\n",
    "        \n",
    "\n",
    "        ax = plt.gca()\n",
    "        L2 = ax.plot(x,y, 'r--')\n",
    "        L3 = ax.plot(Goal[-1][0],Goal[-1][1], 'rX',markersize= 20)\n",
    "        plt.show()    \n",
    "        # prepare batch\n",
    "        rollout = np.array(rollout)\n",
    "#         print(np.shape(rollout[0][0]))\n",
    "        states = np.vstack(rollout[:,0])\n",
    "#         print(np.shape(states))\n",
    "        actions = np.vstack(rollout[:,1])\n",
    "#         print(np.shape(actions))\n",
    "        rewards = np.array(rollout[:,2], dtype=float)\n",
    "        print(rewards)\n",
    "        returns = compute_returns(rewards, discount_factor)\n",
    "        # policy gradient update\n",
    "        policy.optimizer.zero_grad()\n",
    "        a_probs = policy(torch.from_numpy(states).float()).gather(1, torch.from_numpy(actions)).view(-1)\n",
    "        loss = policy.loss(a_probs, torch.from_numpy(returns).float())\n",
    "        loss.backward()\n",
    "        policy.optimizer.step()\n",
    "        # bookkeeping\n",
    "        training_rewards.append(sum(rewards))\n",
    "        losses.append(loss.item())\n",
    "        # print\n",
    "        if (i+1) % val_freq == 0:\n",
    "            # validation\n",
    "            validation_rewards = []\n",
    "            for _ in range(10):\n",
    "                s = env.reset(i)\n",
    "                reward = 0\n",
    "                for _ in range(rollout_limit):\n",
    "                    with torch.no_grad():\n",
    "                        a = policy(torch.from_numpy(np.atleast_2d(s)).float()).argmax().item()\n",
    "                    s, r, done, _ = env.step([[a,a],[a,a]])\n",
    "                    reward += r\n",
    "                    if done: break\n",
    "                validation_rewards.append(reward)\n",
    "            print('{:4d}. mean training reward: {:6.2f}, mean validation reward: {:6.2f}, mean loss: {:7.4f}'.format(i+1, np.mean(training_rewards[-val_freq:]), np.mean(validation_rewards), np.mean(losses[-val_freq:])))\n",
    "    print('done')\n",
    "except KeyboardInterrupt:\n",
    "    print('interrupt')    "
   ]
  },
  {
   "cell_type": "code",
   "execution_count": 20,
   "metadata": {},
   "outputs": [],
   "source": [
    "def get_user_input():\n",
    "    \n",
    "    Coord = input(\"Input relative coordinates: \")\n",
    "    Dist = input(\"Input distances to the nearest objects: \")\n",
    "    \n",
    "    params = [Coord, Dist]\n",
    "    if all(str(i).isdigit() for i in params):  # Check input is valid\n",
    "        params = [int(x) for x in params]\n",
    "    else:\n",
    "        print(\n",
    "            \"Could not parse input. The simulation will use default values:\",\n",
    "            \"\\n1 cashier, 1 server, 1 usher.\",\n",
    "        )\n",
    "        params = [1, 1]\n",
    "    return params"
   ]
  },
  {
   "cell_type": "code",
   "execution_count": null,
   "metadata": {},
   "outputs": [],
   "source": [
    "# def main():\n",
    "    \n",
    "#     random.seed(42)\n",
    "#     Coord, Dist = get_user_input()\n",
    "    \n",
    "    \n",
    "    \n",
    "    \n",
    "#     env = simpy.env()\n",
    "#     env.process(step(env, Coord, Dist))\n",
    "#     env.run(until=90)\n",
    "    \n",
    "#     print(\n",
    "#       \"Running simulation...\",\n",
    "#     )\n",
    "    \n",
    "# if __name__ == '__main__':\n",
    "#     main()"
   ]
  },
  {
   "cell_type": "code",
   "execution_count": 21,
   "metadata": {},
   "outputs": [
    {
     "name": "stdout",
     "output_type": "stream",
     "text": [
      "10\n"
     ]
    }
   ],
   "source": [
    "r = np.arange(10)\n",
    "Y = len(r)\n",
    "print(Y)"
   ]
  },
  {
   "cell_type": "code",
   "execution_count": 80,
   "metadata": {},
   "outputs": [
    {
     "name": "stdout",
     "output_type": "stream",
     "text": [
      "tensor([[[ 0.5398,  0.9266, -0.8104,  0.8587,  0.9879],\n",
      "         [ 0.2354,  0.0607, -1.8075,  2.5882, -1.2743],\n",
      "         [-0.1481, -0.3298, -0.0318, -0.5895,  0.2959],\n",
      "         [ 0.3843,  1.4706,  1.1337,  0.2872,  0.9290],\n",
      "         [ 0.1080, -2.0556,  0.3621, -1.1089, -0.1536]],\n",
      "\n",
      "        [[-1.2349, -0.6216, -1.9804, -0.1937, -0.5414],\n",
      "         [ 0.4413,  0.9829, -0.3114, -1.6125,  0.3031],\n",
      "         [-0.0479, -0.9082,  0.3721,  1.3088, -0.5685],\n",
      "         [-0.2084,  0.3916,  0.0766,  0.3421,  0.6568],\n",
      "         [ 0.4380, -1.4627,  0.0977,  0.4462,  1.6999]]])\n",
      "tensor([[[ 0.5398, -0.8104,  0.9879],\n",
      "         [ 0.2354, -1.8075, -1.2743],\n",
      "         [-0.1481, -0.0318,  0.2959],\n",
      "         [ 0.3843,  1.1337,  0.9290],\n",
      "         [ 0.1080,  0.3621, -0.1536]],\n",
      "\n",
      "        [[-1.2349, -1.9804, -0.5414],\n",
      "         [ 0.4413, -0.3114,  0.3031],\n",
      "         [-0.0479,  0.3721, -0.5685],\n",
      "         [-0.2084,  0.0766,  0.6568],\n",
      "         [ 0.4380,  0.0977,  1.6999]]])\n"
     ]
    }
   ],
   "source": [
    "m = nn.MaxPool1d(1, stride=2)\n",
    "input = torch.randn(2, 5, 5)\n",
    "print(input)\n",
    "output = m(input)\n",
    "print(output)"
   ]
  },
  {
   "cell_type": "code",
   "execution_count": 118,
   "metadata": {},
   "outputs": [
    {
     "name": "stdout",
     "output_type": "stream",
     "text": [
      "tensor([[ 0.3173,  1.2335,  1.9624, -0.8378, -0.3643,  0.1680, -0.9416,  0.3956,\n",
      "          0.9180, -0.7068,  1.2265,  0.2083,  0.2072, -0.4807, -0.0947, -0.6209,\n",
      "         -0.4566, -0.2580, -1.4593,  0.0547, -0.0286, -0.9961,  0.7474, -1.7732,\n",
      "         -0.8051,  0.4802, -1.1996, -0.7010, -0.7915,  1.5996]])\n"
     ]
    }
   ],
   "source": [
    "A = torch.randn(1,128,1)\n",
    "B = torch.randn(1,30)\n",
    "print(B)"
   ]
  },
  {
   "cell_type": "code",
   "execution_count": 142,
   "metadata": {},
   "outputs": [
    {
     "name": "stdout",
     "output_type": "stream",
     "text": [
      "torch.Size([1, 30, 1])\n",
      "torch.Size([1, 5, 2])\n",
      "tensor([[[-0.3080,  0.2154],\n",
      "         [-0.2373, -0.2104],\n",
      "         [ 0.3521,  0.3265],\n",
      "         [-0.3698,  0.3458],\n",
      "         [ 0.2728, -0.0661]]], grad_fn=<SqueezeBackward1>)\n",
      "N: tensor([[[-0.2373,  0.3521],\n",
      "         [ 0.2154,  0.3458]]], grad_fn=<SqueezeBackward1>)\n",
      "torch.Size([1, 2, 2])\n",
      "tensor([[-0.2373,  0.3521,  0.2154,  0.3458]], grad_fn=<ViewBackward>)\n",
      "torch.Size([1, 4])\n"
     ]
    }
   ],
   "source": [
    "\n",
    "CT = nn.Conv1d(30, 5, 2, stride = 1, padding =1)\n",
    "L = nn.Linear(30, 128, bias=True)\n",
    "P = nn.MaxPool1d(2)\n",
    "\n",
    "Q = L(B)\n",
    "# print(Q)\n",
    "# print(Q.shape)\n",
    "\n",
    "R= B.unsqueeze(0).permute(0, 2, 1)\n",
    "\n",
    "print(R.shape)\n",
    "M = CT(R)\n",
    "print(M.shape)\n",
    "print(M)\n",
    "\n",
    "\n",
    "N = P(M.permute(0,2,1))\n",
    "print(\"N:\",N)\n",
    "print(N.shape)\n",
    "# print(N.shape)\n",
    "\n",
    "O = N.view(1,N.shape[1]*N.shape[2])\n",
    "print(O)\n",
    "print(O.shape)"
   ]
  },
  {
   "cell_type": "code",
   "execution_count": 149,
   "metadata": {},
   "outputs": [
    {
     "ename": "SyntaxError",
     "evalue": "positional argument follows keyword argument (<ipython-input-149-1880696f893f>, line 1)",
     "output_type": "error",
     "traceback": [
      "\u001b[1;36m  File \u001b[1;32m\"<ipython-input-149-1880696f893f>\"\u001b[1;36m, line \u001b[1;32m1\u001b[0m\n\u001b[1;33m    plt.plot(np.arange(10),np.arange(10),  label= ('jndejanc'),'rD', markersize= 9)\u001b[0m\n\u001b[1;37m                                                               ^\u001b[0m\n\u001b[1;31mSyntaxError\u001b[0m\u001b[1;31m:\u001b[0m positional argument follows keyword argument\n"
     ]
    }
   ],
   "source": [
    "plt.plot(np.arange(10),np.arange(10),  label= ('jndejanc'),'rD', markersize= 9)\n",
    "plt.legend()\n",
    "plt.show"
   ]
  },
  {
   "cell_type": "code",
   "execution_count": 144,
   "metadata": {},
   "outputs": [
    {
     "name": "stdout",
     "output_type": "stream",
     "text": [
      "[1, 1, 1]\n"
     ]
    }
   ],
   "source": [
    "import random\n",
    "runs = 3\n",
    "seeds = []\n",
    "random.seed()\n",
    "for i in range(runs):\n",
    "    seeds.append(random.randint(1,1))\n",
    "print(seeds)"
   ]
  },
  {
   "cell_type": "code",
   "execution_count": null,
   "metadata": {},
   "outputs": [],
   "source": [
    "if torch.cuda.is_available():\n",
    "                agents.cuda()\n",
    "\n",
    "        return agents\n",
    "\n",
    "    def step(self, agent, runs, env, seeds):\n",
    "\n",
    "        agent.eval()\n",
    "        rs = []\n",
    "\n",
    "        for run in range(runs):\n",
    "\n",
    "            observation = env.reset(seeds[run])\n",
    "            r = 0\n",
    "            s = 0\n",
    "\n",
    "            for _ in range(self.max_step):\n",
    "                inp = torch.tensor(observation).type('torch.FloatTensor')\n",
    "                inp.cuda()"
   ]
  },
  {
   "cell_type": "code",
   "execution_count": 172,
   "metadata": {},
   "outputs": [
    {
     "name": "stdout",
     "output_type": "stream",
     "text": [
      "[   -1    -2    -3    -5   -53   -74 -2946]\n"
     ]
    }
   ],
   "source": [
    "A = np.array([1,5,3,53,74,2946,2])\n",
    "A = -1*A\n",
    "B = np.argsort(A)[::-1]\n",
    "print(A[B])"
   ]
  },
  {
   "cell_type": "code",
   "execution_count": 182,
   "metadata": {},
   "outputs": [
    {
     "name": "stdout",
     "output_type": "stream",
     "text": [
      "[array([ 0, 10]), array([ 0, 20])]\n"
     ]
    },
    {
     "ename": "TypeError",
     "evalue": "'list' object cannot be interpreted as an integer",
     "output_type": "error",
     "traceback": [
      "\u001b[1;31m---------------------------------------------------------------------------\u001b[0m",
      "\u001b[1;31mTypeError\u001b[0m                                 Traceback (most recent call last)",
      "\u001b[1;32m<ipython-input-182-663cc8426e03>\u001b[0m in \u001b[0;36m<module>\u001b[1;34m\u001b[0m\n\u001b[0;32m      1\u001b[0m \u001b[0mA\u001b[0m \u001b[1;33m=\u001b[0m \u001b[1;33m[\u001b[0m\u001b[0mnp\u001b[0m\u001b[1;33m.\u001b[0m\u001b[0marray\u001b[0m\u001b[1;33m(\u001b[0m\u001b[1;33m[\u001b[0m\u001b[1;36m0\u001b[0m\u001b[1;33m,\u001b[0m\u001b[1;36m10\u001b[0m\u001b[1;33m]\u001b[0m\u001b[1;33m)\u001b[0m\u001b[1;33m,\u001b[0m \u001b[0mnp\u001b[0m\u001b[1;33m.\u001b[0m\u001b[0marray\u001b[0m\u001b[1;33m(\u001b[0m\u001b[1;33m[\u001b[0m\u001b[1;36m0\u001b[0m\u001b[1;33m,\u001b[0m\u001b[1;36m20\u001b[0m\u001b[1;33m]\u001b[0m\u001b[1;33m)\u001b[0m\u001b[1;33m]\u001b[0m\u001b[1;33m\u001b[0m\u001b[1;33m\u001b[0m\u001b[0m\n\u001b[0;32m      2\u001b[0m \u001b[0mprint\u001b[0m\u001b[1;33m(\u001b[0m\u001b[0mA\u001b[0m\u001b[1;33m)\u001b[0m\u001b[1;33m\u001b[0m\u001b[1;33m\u001b[0m\u001b[0m\n\u001b[1;32m----> 3\u001b[1;33m \u001b[1;32mfor\u001b[0m \u001b[0mn\u001b[0m\u001b[1;33m,\u001b[0m \u001b[0mi\u001b[0m \u001b[1;32min\u001b[0m \u001b[0menumerate\u001b[0m\u001b[1;33m(\u001b[0m\u001b[1;36m0\u001b[0m\u001b[1;33m,\u001b[0m\u001b[0mA\u001b[0m\u001b[1;33m)\u001b[0m\u001b[1;33m:\u001b[0m\u001b[1;33m\u001b[0m\u001b[1;33m\u001b[0m\u001b[0m\n\u001b[0m\u001b[0;32m      4\u001b[0m     \u001b[0mprint\u001b[0m\u001b[1;33m(\u001b[0m\u001b[1;34m\"index:\"\u001b[0m\u001b[1;33m,\u001b[0m \u001b[0mi\u001b[0m\u001b[1;33m,\u001b[0m \u001b[1;34m\"is\"\u001b[0m \u001b[1;33m,\u001b[0m\u001b[0mA\u001b[0m \u001b[1;33m=\u001b[0m \u001b[0mA\u001b[0m\u001b[1;33m*\u001b[0m\u001b[1;36m2\u001b[0m\u001b[1;33m)\u001b[0m\u001b[1;33m\u001b[0m\u001b[1;33m\u001b[0m\u001b[0m\n\u001b[0;32m      5\u001b[0m     \u001b[0mC\u001b[0m \u001b[1;33m=\u001b[0m \u001b[0mB\u001b[0m\u001b[1;33m[\u001b[0m\u001b[0mn\u001b[0m\u001b[1;33m]\u001b[0m\u001b[1;33m\u001b[0m\u001b[1;33m\u001b[0m\u001b[0m\n",
      "\u001b[1;31mTypeError\u001b[0m: 'list' object cannot be interpreted as an integer"
     ]
    }
   ],
   "source": [
    "A = [np.array([0,10]), np.array([0,20])]\n",
    "print(A)\n",
    "for n, i in enumerate(0,A):\n",
    "    print(\"index:\", i, \"is\" ,A = A*2)\n",
    "    C = B[n]\n",
    "    print(n)"
   ]
  },
  {
   "cell_type": "code",
   "execution_count": 177,
   "metadata": {},
   "outputs": [
    {
     "name": "stdout",
     "output_type": "stream",
     "text": [
      "10240\n"
     ]
    }
   ],
   "source": [
    "print(A)"
   ]
  },
  {
   "cell_type": "code",
   "execution_count": 1,
   "metadata": {},
   "outputs": [
    {
     "name": "stdout",
     "output_type": "stream",
     "text": [
      "tensor([[0.7073, 0.5151, 0.8574, 0.9450, 0.5811, 0.7284, 0.5417, 0.9536, 0.3994,\n",
      "         0.6514, 0.7732, 0.1565, 0.3472, 0.8272, 0.1215, 0.8071, 0.7135, 0.9149,\n",
      "         0.8425, 0.8683, 0.9739, 0.4918, 0.8215, 0.1090, 0.8099, 0.8864, 0.1124,\n",
      "         0.9302, 0.3780, 0.5603, 0.5206, 0.4368, 0.5569, 0.2205, 0.1066]])\n",
      "35\n",
      "torch.Size([1, 35])\n",
      "30\n",
      "tensor([[0.7073, 0.5151, 0.8574, 0.9450, 0.5811, 0.7284, 0.5417, 0.9536, 0.3994,\n",
      "         0.6514, 0.7732, 0.1565, 0.3472, 0.8272, 0.1215, 0.8071, 0.7135, 0.9149,\n",
      "         0.8425, 0.8683, 0.9739, 0.4918, 0.8215, 0.1090, 0.8099, 0.8864, 0.1124,\n",
      "         0.9302, 0.3780, 0.5603]])\n",
      "torch.Size([1, 30])\n",
      "tensor([[0.5206, 0.4368, 0.5569, 0.2205, 0.1066]])\n",
      "torch.Size([1, 5])\n",
      "tensor([[0.2205, 0.1066]])\n",
      "torch.Size([1, 2])\n",
      "torch.Size([1, 2])\n"
     ]
    }
   ],
   "source": [
    "import torch\n",
    "A = torch.rand(1, 35)\n",
    "print(A)\n",
    "print(len(A[0]))\n",
    "print(A.shape)\n",
    "B = A[:,:30]\n",
    "C = A[:,30:]\n",
    "print(len(B[0]))\n",
    "print(B)\n",
    "print(B.shape)\n",
    "print(C)\n",
    "print(C.shape)\n",
    "D = C[:,-2:]\n",
    "print(D)\n",
    "print(D.shape)\n",
    "print(D.view(1,2).shape)"
   ]
  },
  {
   "cell_type": "code",
   "execution_count": 2,
   "metadata": {},
   "outputs": [
    {
     "name": "stdout",
     "output_type": "stream",
     "text": [
      "tensor([[0.7073, 0.5151, 0.8574, 0.9450, 0.5811, 0.7284, 0.5417, 0.9536, 0.3994,\n",
      "         0.6514, 0.7732, 0.1565, 0.3472, 0.8272, 0.1215, 0.8071, 0.7135, 0.9149,\n",
      "         0.8425, 0.8683, 0.9739, 0.4918, 0.8215, 0.1090, 0.8099, 0.8864, 0.1124,\n",
      "         0.9302, 0.3780, 0.5603, 0.2205, 0.1066]])\n",
      "torch.Size([1, 32])\n"
     ]
    }
   ],
   "source": [
    "T = torch.cat((B,D), 1)\n",
    "print(T)\n",
    "print(T.shape)"
   ]
  },
  {
   "cell_type": "code",
   "execution_count": 143,
   "metadata": {},
   "outputs": [
    {
     "data": {
      "text/plain": [
       "(array([ 1.,  0.,  0.,  0.,  0.,  0.,  0.,  0.,  4., 25.]),\n",
       " array([-3.2450e+03, -2.9206e+03, -2.5962e+03, -2.2718e+03, -1.9474e+03,\n",
       "        -1.6230e+03, -1.2986e+03, -9.7420e+02, -6.4980e+02, -3.2540e+02,\n",
       "        -1.0000e+00]),\n",
       " <a list of 10 Patch objects>)"
      ]
     },
     "execution_count": 143,
     "metadata": {},
     "output_type": "execute_result"
    },
    {
     "data": {
      "image/png": "[encoded data removed]",
      "text/plain": [
       "<Figure size 432x288 with 1 Axes>"
      ]
     },
     "metadata": {
      "needs_background": "light"
     },
     "output_type": "display_data"
    }
   ],
   "source": [
    "plt.hist(T)"
   ]
  },
  {
   "cell_type": "code",
   "execution_count": 186,
   "metadata": {},
   "outputs": [
    {
     "name": "stdout",
     "output_type": "stream",
     "text": [
      "(30,)\n",
      "30\n"
     ]
    }
   ],
   "source": [
    "T = -np.array([1,3,4,23,42,3,5,3245,2,5,454,35,4,54,5,435,4,35,4,35,4,35,64,35,4,6,53,6,435,453])\n",
    "N = list(T)\n",
    "AA = np.argsort(T[::-1][:10])\n",
    "# print(N)\n",
    "print(np.shape(N))\n",
    "# print(np.shape(np.array(N)))\n",
    "P =np.reshape(N,(30,1))\n",
    "print(np.size(P))\n",
    "# print(P.shape[1]==1)\n",
    "if sum(np.shape(N))!= len(N):\n",
    "    print(\"YESS\")\n",
    "# print(np.shape(P.ravel()))"
   ]
  },
  {
   "cell_type": "code",
   "execution_count": null,
   "metadata": {},
   "outputs": [],
   "source": []
  },
  {
   "cell_type": "code",
   "execution_count": 179,
   "metadata": {},
   "outputs": [
    {
     "name": "stdout",
     "output_type": "stream",
     "text": [
      "YESS\n"
     ]
    }
   ],
   "source": [
    "if sum(np.shape(np.array(P)))!= len(P):\n",
    "    print(\"YESS\")"
   ]
  },
  {
   "cell_type": "code",
   "execution_count": 180,
   "metadata": {},
   "outputs": [
    {
     "name": "stdout",
     "output_type": "stream",
     "text": [
      "31\n"
     ]
    }
   ],
   "source": [
    "print(sum(np.shape(P)))"
   ]
  },
  {
   "cell_type": "code",
   "execution_count": 181,
   "metadata": {},
   "outputs": [
    {
     "ename": "TypeError",
     "evalue": "'int' object is not iterable",
     "output_type": "error",
     "traceback": [
      "\u001b[1;31m---------------------------------------------------------------------------\u001b[0m",
      "\u001b[1;31mTypeError\u001b[0m                                 Traceback (most recent call last)",
      "\u001b[1;32m<ipython-input-181-904b74e98858>\u001b[0m in \u001b[0;36m<module>\u001b[1;34m\u001b[0m\n\u001b[1;32m----> 1\u001b[1;33m \u001b[0mprint\u001b[0m\u001b[1;33m(\u001b[0m\u001b[0msum\u001b[0m\u001b[1;33m(\u001b[0m\u001b[0mlen\u001b[0m\u001b[1;33m(\u001b[0m\u001b[0mP\u001b[0m\u001b[1;33m)\u001b[0m\u001b[1;33m)\u001b[0m\u001b[1;33m)\u001b[0m\u001b[1;33m\u001b[0m\u001b[1;33m\u001b[0m\u001b[0m\n\u001b[0m",
      "\u001b[1;31mTypeError\u001b[0m: 'int' object is not iterable"
     ]
    }
   ],
   "source": [
    "print(sum(len(P)))"
   ]
  },
  {
   "cell_type": "code",
   "execution_count": 183,
   "metadata": {},
   "outputs": [
    {
     "name": "stdout",
     "output_type": "stream",
     "text": [
      "[0.28436246 0.4401201  0.8245888  0.03787975 0.87922906 0.75058513\n",
      " 0.45010734 0.72933764 0.21954398 0.65741418 0.33771372 0.07086556\n",
      " 0.22124579 0.74512884 0.4462474  0.03596581 0.64933587 0.16709839\n",
      " 0.79359597 0.1088665  0.24851726 0.69206415 0.3692071  0.4895703\n",
      " 0.0663053  0.26649522 0.42193161 0.17885045 0.05294163 0.31056646\n",
      " 0.5445745  0.15034996 0.5583093  0.54462138 0.99604134 0.44137978\n",
      " 0.69608749 0.26894302 0.85127688 0.22919104 0.39148069 0.63401424\n",
      " 0.94734671 0.08855134 0.69589038 0.66741008 0.18193347 0.34837943\n",
      " 0.26455697 0.34837797 0.76955941 0.57541399 0.95089222 0.74478221\n",
      " 0.73638914 0.8956822  0.71152876 0.29999065 0.3450945  0.99777628\n",
      " 0.2987224  0.75672655 0.22087926 0.91819612 0.60779992 0.48348047\n",
      " 0.49219926 0.03452335 0.66127736 0.88317808 0.07953312 0.89896429\n",
      " 0.56774346 0.01253743 0.03641893 0.16042652 0.96198756 0.00376753\n",
      " 0.84088961 0.00854939 0.87547254 0.59812593 0.87047888 0.48187534\n",
      " 0.96391367 0.61919607 0.0192878  0.40860852 0.68654593 0.861298\n",
      " 0.53581573 0.86758337 0.55440839 0.13422282 0.93435694 0.13655759\n",
      " 0.08827123 0.49467143 0.79906685 0.14658339]\n",
      "[3 6 4 0 2 9 7 1 8 5]\n"
     ]
    }
   ],
   "source": [
    "A =list(np.random.rand(100,2))\n",
    "# print(np.array(A))\n",
    "B = np.array(A)[:,1]\n",
    "print(B)\n",
    "print(np.argsort(B[::-1][:10]))"
   ]
  },
  {
   "cell_type": "code",
   "execution_count": 193,
   "metadata": {},
   "outputs": [
    {
     "data": {
      "image/png": "[encoded data removed]",
      "text/plain": [
       "<Figure size 432x288 with 1 Axes>"
      ]
     },
     "metadata": {
      "needs_background": "light"
     },
     "output_type": "display_data"
    },
    {
     "data": {
      "image/png": "[encoded data removed]",
      "text/plain": [
       "<Figure size 432x288 with 1 Axes>"
      ]
     },
     "metadata": {
      "needs_background": "light"
     },
     "output_type": "display_data"
    }
   ],
   "source": [
    "f = plt.figure(1)\n",
    "plt.plot(np.arange(30),T)\n",
    "g = plt.figure(2)\n",
    "plt.bar(len(B),B)\n",
    "plt.show()"
   ]
  },
  {
   "cell_type": "code",
   "execution_count": 8,
   "metadata": {},
   "outputs": [
    {
     "ename": "IndexError",
     "evalue": "index 4 is out of bounds for axis 0 with size 4",
     "output_type": "error",
     "traceback": [
      "\u001b[1;31m---------------------------------------------------------------------------\u001b[0m",
      "\u001b[1;31mIndexError\u001b[0m                                Traceback (most recent call last)",
      "\u001b[1;32m<ipython-input-8-3fb17c47aa22>\u001b[0m in \u001b[0;36m<module>\u001b[1;34m\u001b[0m\n\u001b[0;32m      1\u001b[0m \u001b[1;32mimport\u001b[0m \u001b[0mnumpy\u001b[0m \u001b[1;32mas\u001b[0m \u001b[0mnp\u001b[0m\u001b[1;33m\u001b[0m\u001b[1;33m\u001b[0m\u001b[0m\n\u001b[0;32m      2\u001b[0m \u001b[0mAAA\u001b[0m \u001b[1;33m=\u001b[0m \u001b[0mnp\u001b[0m\u001b[1;33m.\u001b[0m\u001b[0mzeros\u001b[0m\u001b[1;33m(\u001b[0m\u001b[1;36m4\u001b[0m\u001b[1;33m)\u001b[0m\u001b[1;33m\u001b[0m\u001b[1;33m\u001b[0m\u001b[0m\n\u001b[1;32m----> 3\u001b[1;33m \u001b[0mAAA\u001b[0m\u001b[1;33m[\u001b[0m\u001b[1;36m4\u001b[0m\u001b[1;33m]\u001b[0m\u001b[1;33m=\u001b[0m \u001b[1;36m1\u001b[0m\u001b[1;33m\u001b[0m\u001b[1;33m\u001b[0m\u001b[0m\n\u001b[0m\u001b[0;32m      4\u001b[0m \u001b[0mprint\u001b[0m\u001b[1;33m(\u001b[0m\u001b[0mAAA\u001b[0m\u001b[1;33m)\u001b[0m\u001b[1;33m\u001b[0m\u001b[1;33m\u001b[0m\u001b[0m\n",
      "\u001b[1;31mIndexError\u001b[0m: index 4 is out of bounds for axis 0 with size 4"
     ]
    }
   ],
   "source": [
    "import numpy as np\n",
    "AAA = np.zeros(4)\n",
    "AAA[4]= 1\n",
    "print(AAA)"
   ]
  },
  {
   "cell_type": "code",
   "execution_count": null,
   "metadata": {},
   "outputs": [],
   "source": []
  }
 ],
 "metadata": {
  "kernelspec": {
   "display_name": "Python 3",
   "language": "python",
   "name": "python3"
  },
  "language_info": {
   "codemirror_mode": {
    "name": "ipython",
    "version": 3
   },
   "file_extension": ".py",
   "mimetype": "text/x-python",
   "name": "python",
   "nbconvert_exporter": "python",
   "pygments_lexer": "ipython3",
   "version": "3.8.1"
  }
 },
 "nbformat": 4,
 "nbformat_minor": 4
}
